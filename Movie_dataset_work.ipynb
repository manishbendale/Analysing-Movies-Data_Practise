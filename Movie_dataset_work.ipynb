{
 "cells": [
  {
   "cell_type": "code",
   "execution_count": 37,
   "metadata": {},
   "outputs": [
    {
     "data": {
      "text/html": [
       "<div>\n",
       "<style scoped>\n",
       "    .dataframe tbody tr th:only-of-type {\n",
       "        vertical-align: middle;\n",
       "    }\n",
       "\n",
       "    .dataframe tbody tr th {\n",
       "        vertical-align: top;\n",
       "    }\n",
       "\n",
       "    .dataframe thead th {\n",
       "        text-align: right;\n",
       "    }\n",
       "</style>\n",
       "<table border=\"1\" class=\"dataframe\">\n",
       "  <thead>\n",
       "    <tr style=\"text-align: right;\">\n",
       "      <th></th>\n",
       "      <th>movie_id</th>\n",
       "      <th>movie_name</th>\n",
       "      <th>movie_release_year</th>\n",
       "      <th>movie_rating</th>\n",
       "      <th>movie_duration_in_second</th>\n",
       "    </tr>\n",
       "  </thead>\n",
       "  <tbody>\n",
       "    <tr>\n",
       "      <th>0</th>\n",
       "      <td>1</td>\n",
       "      <td>The Nightmare Before Christmas</td>\n",
       "      <td>1993</td>\n",
       "      <td>3.9</td>\n",
       "      <td>4568.0</td>\n",
       "    </tr>\n",
       "    <tr>\n",
       "      <th>1</th>\n",
       "      <td>2</td>\n",
       "      <td>The Mummy</td>\n",
       "      <td>1932</td>\n",
       "      <td>3.5</td>\n",
       "      <td>4388.0</td>\n",
       "    </tr>\n",
       "    <tr>\n",
       "      <th>2</th>\n",
       "      <td>3</td>\n",
       "      <td>Orphans of the Storm</td>\n",
       "      <td>1921</td>\n",
       "      <td>3.2</td>\n",
       "      <td>9062.0</td>\n",
       "    </tr>\n",
       "    <tr>\n",
       "      <th>3</th>\n",
       "      <td>4</td>\n",
       "      <td>The Object of Beauty</td>\n",
       "      <td>1991</td>\n",
       "      <td>2.8</td>\n",
       "      <td>6150.0</td>\n",
       "    </tr>\n",
       "    <tr>\n",
       "      <th>4</th>\n",
       "      <td>5</td>\n",
       "      <td>Night Tide</td>\n",
       "      <td>1963</td>\n",
       "      <td>2.8</td>\n",
       "      <td>5126.0</td>\n",
       "    </tr>\n",
       "  </tbody>\n",
       "</table>\n",
       "</div>"
      ],
      "text/plain": [
       "   movie_id                      movie_name  movie_release_year  movie_rating  \\\n",
       "0         1  The Nightmare Before Christmas                1993           3.9   \n",
       "1         2                       The Mummy                1932           3.5   \n",
       "2         3            Orphans of the Storm                1921           3.2   \n",
       "3         4            The Object of Beauty                1991           2.8   \n",
       "4         5                      Night Tide                1963           2.8   \n",
       "\n",
       "   movie_duration_in_second  \n",
       "0                    4568.0  \n",
       "1                    4388.0  \n",
       "2                    9062.0  \n",
       "3                    6150.0  \n",
       "4                    5126.0  "
      ]
     },
     "execution_count": 37,
     "metadata": {},
     "output_type": "execute_result"
    }
   ],
   "source": [
    "import pandas as pd\n",
    "\n",
    "data = pd.read_csv('movies.txt', names = ['movie_id', 'movie_name', 'movie_release_year', 'movie_rating', 'movie_duration_in_second'],encoding = 'latin-1', header = None)\n",
    "data.head()"
   ]
  },
  {
   "cell_type": "code",
   "execution_count": 38,
   "metadata": {},
   "outputs": [
    {
     "data": {
      "text/plain": [
       "49590"
      ]
     },
     "execution_count": 38,
     "metadata": {},
     "output_type": "execute_result"
    }
   ],
   "source": [
    "movie = data.movie_name\n",
    "len(movie)"
   ]
  },
  {
   "cell_type": "markdown",
   "metadata": {},
   "source": [
    "## Find the number of movies released between 1950 and 1960."
   ]
  },
  {
   "cell_type": "code",
   "execution_count": 45,
   "metadata": {},
   "outputs": [
    {
     "name": "stdout",
     "output_type": "stream",
     "text": [
      "total = 547\n"
     ]
    },
    {
     "data": {
      "text/html": [
       "<div>\n",
       "<style scoped>\n",
       "    .dataframe tbody tr th:only-of-type {\n",
       "        vertical-align: middle;\n",
       "    }\n",
       "\n",
       "    .dataframe tbody tr th {\n",
       "        vertical-align: top;\n",
       "    }\n",
       "\n",
       "    .dataframe thead th {\n",
       "        text-align: right;\n",
       "    }\n",
       "</style>\n",
       "<table border=\"1\" class=\"dataframe\">\n",
       "  <thead>\n",
       "    <tr style=\"text-align: right;\">\n",
       "      <th></th>\n",
       "      <th>movie_id</th>\n",
       "      <th>movie_name</th>\n",
       "      <th>movie_release_year</th>\n",
       "      <th>movie_rating</th>\n",
       "      <th>movie_duration_in_second</th>\n",
       "    </tr>\n",
       "  </thead>\n",
       "  <tbody>\n",
       "    <tr>\n",
       "      <th>70</th>\n",
       "      <td>71</td>\n",
       "      <td>All About Eve</td>\n",
       "      <td>1950</td>\n",
       "      <td>3.8</td>\n",
       "      <td>8300.0</td>\n",
       "    </tr>\n",
       "    <tr>\n",
       "      <th>93</th>\n",
       "      <td>94</td>\n",
       "      <td>House on Haunted Hill</td>\n",
       "      <td>1959</td>\n",
       "      <td>3.6</td>\n",
       "      <td>4491.0</td>\n",
       "    </tr>\n",
       "    <tr>\n",
       "      <th>97</th>\n",
       "      <td>98</td>\n",
       "      <td>Godzilla: King of the Monsters</td>\n",
       "      <td>1956</td>\n",
       "      <td>3.5</td>\n",
       "      <td>4828.0</td>\n",
       "    </tr>\n",
       "    <tr>\n",
       "      <th>99</th>\n",
       "      <td>100</td>\n",
       "      <td>High Noon</td>\n",
       "      <td>1952</td>\n",
       "      <td>3.9</td>\n",
       "      <td>5087.0</td>\n",
       "    </tr>\n",
       "    <tr>\n",
       "      <th>315</th>\n",
       "      <td>316</td>\n",
       "      <td>Beneath the 12-Mile Reef</td>\n",
       "      <td>1953</td>\n",
       "      <td>3.2</td>\n",
       "      <td>6036.0</td>\n",
       "    </tr>\n",
       "  </tbody>\n",
       "</table>\n",
       "</div>"
      ],
      "text/plain": [
       "     movie_id                      movie_name  movie_release_year  \\\n",
       "70         71                   All About Eve                1950   \n",
       "93         94           House on Haunted Hill                1959   \n",
       "97         98  Godzilla: King of the Monsters                1956   \n",
       "99        100                       High Noon                1952   \n",
       "315       316        Beneath the 12-Mile Reef                1953   \n",
       "\n",
       "     movie_rating  movie_duration_in_second  \n",
       "70            3.8                    8300.0  \n",
       "93            3.6                    4491.0  \n",
       "97            3.5                    4828.0  \n",
       "99            3.9                    5087.0  \n",
       "315           3.2                    6036.0  "
      ]
     },
     "execution_count": 45,
     "metadata": {},
     "output_type": "execute_result"
    }
   ],
   "source": [
    "movie_bt_1950_and_1960 = data[(data.movie_release_year >= 1950) & (data.movie_release_year <= 1960)]\n",
    "print('total =',len(movie_bt_1950_and_1960))\n",
    "movie_bt_1950_and_1960.head()"
   ]
  },
  {
   "cell_type": "markdown",
   "metadata": {},
   "source": [
    "## Find the number of movies having rating more than 4."
   ]
  },
  {
   "cell_type": "code",
   "execution_count": 48,
   "metadata": {},
   "outputs": [
    {
     "name": "stdout",
     "output_type": "stream",
     "text": [
      "total = 897\n"
     ]
    },
    {
     "data": {
      "text/html": [
       "<div>\n",
       "<style scoped>\n",
       "    .dataframe tbody tr th:only-of-type {\n",
       "        vertical-align: middle;\n",
       "    }\n",
       "\n",
       "    .dataframe tbody tr th {\n",
       "        vertical-align: top;\n",
       "    }\n",
       "\n",
       "    .dataframe thead th {\n",
       "        text-align: right;\n",
       "    }\n",
       "</style>\n",
       "<table border=\"1\" class=\"dataframe\">\n",
       "  <thead>\n",
       "    <tr style=\"text-align: right;\">\n",
       "      <th></th>\n",
       "      <th>movie_id</th>\n",
       "      <th>movie_name</th>\n",
       "      <th>movie_release_year</th>\n",
       "      <th>movie_rating</th>\n",
       "      <th>movie_duration_in_second</th>\n",
       "    </tr>\n",
       "  </thead>\n",
       "  <tbody>\n",
       "    <tr>\n",
       "      <th>138</th>\n",
       "      <td>139</td>\n",
       "      <td>Pulp Fiction</td>\n",
       "      <td>1994</td>\n",
       "      <td>4.1</td>\n",
       "      <td>9265.0</td>\n",
       "    </tr>\n",
       "    <tr>\n",
       "      <th>287</th>\n",
       "      <td>288</td>\n",
       "      <td>Life Is Beautiful</td>\n",
       "      <td>1997</td>\n",
       "      <td>4.2</td>\n",
       "      <td>6973.0</td>\n",
       "    </tr>\n",
       "    <tr>\n",
       "      <th>302</th>\n",
       "      <td>303</td>\n",
       "      <td>Mulan: Special Edition</td>\n",
       "      <td>1998</td>\n",
       "      <td>4.2</td>\n",
       "      <td>5270.0</td>\n",
       "    </tr>\n",
       "    <tr>\n",
       "      <th>464</th>\n",
       "      <td>465</td>\n",
       "      <td>Forrest Gump</td>\n",
       "      <td>1994</td>\n",
       "      <td>4.3</td>\n",
       "      <td>8525.0</td>\n",
       "    </tr>\n",
       "    <tr>\n",
       "      <th>490</th>\n",
       "      <td>491</td>\n",
       "      <td>Braveheart</td>\n",
       "      <td>1995</td>\n",
       "      <td>4.2</td>\n",
       "      <td>10658.0</td>\n",
       "    </tr>\n",
       "  </tbody>\n",
       "</table>\n",
       "</div>"
      ],
      "text/plain": [
       "     movie_id              movie_name  movie_release_year  movie_rating  \\\n",
       "138       139            Pulp Fiction                1994           4.1   \n",
       "287       288       Life Is Beautiful                1997           4.2   \n",
       "302       303  Mulan: Special Edition                1998           4.2   \n",
       "464       465            Forrest Gump                1994           4.3   \n",
       "490       491              Braveheart                1995           4.2   \n",
       "\n",
       "     movie_duration_in_second  \n",
       "138                    9265.0  \n",
       "287                    6973.0  \n",
       "302                    5270.0  \n",
       "464                    8525.0  \n",
       "490                   10658.0  "
      ]
     },
     "execution_count": 48,
     "metadata": {},
     "output_type": "execute_result"
    }
   ],
   "source": [
    "movie_rating_more_than_4 = data[data.movie_rating > 4]\n",
    "print('total =',len(movie_rating_more_than_4))\n",
    "movie_rating_more_than_4.head()"
   ]
  },
  {
   "cell_type": "markdown",
   "metadata": {},
   "source": [
    "## Find the movies whose rating are between 3 and 4"
   ]
  },
  {
   "cell_type": "code",
   "execution_count": 49,
   "metadata": {},
   "outputs": [
    {
     "name": "stdout",
     "output_type": "stream",
     "text": [
      "total = 8222\n"
     ]
    },
    {
     "data": {
      "text/html": [
       "<div>\n",
       "<style scoped>\n",
       "    .dataframe tbody tr th:only-of-type {\n",
       "        vertical-align: middle;\n",
       "    }\n",
       "\n",
       "    .dataframe tbody tr th {\n",
       "        vertical-align: top;\n",
       "    }\n",
       "\n",
       "    .dataframe thead th {\n",
       "        text-align: right;\n",
       "    }\n",
       "</style>\n",
       "<table border=\"1\" class=\"dataframe\">\n",
       "  <thead>\n",
       "    <tr style=\"text-align: right;\">\n",
       "      <th></th>\n",
       "      <th>movie_id</th>\n",
       "      <th>movie_name</th>\n",
       "      <th>movie_release_year</th>\n",
       "      <th>movie_rating</th>\n",
       "      <th>movie_duration_in_second</th>\n",
       "    </tr>\n",
       "  </thead>\n",
       "  <tbody>\n",
       "    <tr>\n",
       "      <th>0</th>\n",
       "      <td>1</td>\n",
       "      <td>The Nightmare Before Christmas</td>\n",
       "      <td>1993</td>\n",
       "      <td>3.9</td>\n",
       "      <td>4568.0</td>\n",
       "    </tr>\n",
       "    <tr>\n",
       "      <th>1</th>\n",
       "      <td>2</td>\n",
       "      <td>The Mummy</td>\n",
       "      <td>1932</td>\n",
       "      <td>3.5</td>\n",
       "      <td>4388.0</td>\n",
       "    </tr>\n",
       "    <tr>\n",
       "      <th>2</th>\n",
       "      <td>3</td>\n",
       "      <td>Orphans of the Storm</td>\n",
       "      <td>1921</td>\n",
       "      <td>3.2</td>\n",
       "      <td>9062.0</td>\n",
       "    </tr>\n",
       "    <tr>\n",
       "      <th>5</th>\n",
       "      <td>6</td>\n",
       "      <td>One Magic Christmas</td>\n",
       "      <td>1985</td>\n",
       "      <td>3.8</td>\n",
       "      <td>5333.0</td>\n",
       "    </tr>\n",
       "    <tr>\n",
       "      <th>6</th>\n",
       "      <td>7</td>\n",
       "      <td>Muriel's Wedding</td>\n",
       "      <td>1994</td>\n",
       "      <td>3.5</td>\n",
       "      <td>6323.0</td>\n",
       "    </tr>\n",
       "  </tbody>\n",
       "</table>\n",
       "</div>"
      ],
      "text/plain": [
       "   movie_id                      movie_name  movie_release_year  movie_rating  \\\n",
       "0         1  The Nightmare Before Christmas                1993           3.9   \n",
       "1         2                       The Mummy                1932           3.5   \n",
       "2         3            Orphans of the Storm                1921           3.2   \n",
       "5         6             One Magic Christmas                1985           3.8   \n",
       "6         7                Muriel's Wedding                1994           3.5   \n",
       "\n",
       "   movie_duration_in_second  \n",
       "0                    4568.0  \n",
       "1                    4388.0  \n",
       "2                    9062.0  \n",
       "5                    5333.0  \n",
       "6                    6323.0  "
      ]
     },
     "execution_count": 49,
     "metadata": {},
     "output_type": "execute_result"
    }
   ],
   "source": [
    "movie_rating_bt_3_and_4 = data[(data.movie_rating >= 3) & (data.movie_rating <= 4)]\n",
    "print('total =',len(movie_rating_bt_3_and_4))\n",
    "movie_rating_bt_3_and_4.head()"
   ]
  },
  {
   "cell_type": "markdown",
   "metadata": {},
   "source": [
    "## Find the number of movies with duration more than 2 hours (7200 second)."
   ]
  },
  {
   "cell_type": "code",
   "execution_count": 50,
   "metadata": {},
   "outputs": [
    {
     "name": "stdout",
     "output_type": "stream",
     "text": [
      "total = 641\n"
     ]
    },
    {
     "data": {
      "text/html": [
       "<div>\n",
       "<style scoped>\n",
       "    .dataframe tbody tr th:only-of-type {\n",
       "        vertical-align: middle;\n",
       "    }\n",
       "\n",
       "    .dataframe tbody tr th {\n",
       "        vertical-align: top;\n",
       "    }\n",
       "\n",
       "    .dataframe thead th {\n",
       "        text-align: right;\n",
       "    }\n",
       "</style>\n",
       "<table border=\"1\" class=\"dataframe\">\n",
       "  <thead>\n",
       "    <tr style=\"text-align: right;\">\n",
       "      <th></th>\n",
       "      <th>movie_id</th>\n",
       "      <th>movie_name</th>\n",
       "      <th>movie_release_year</th>\n",
       "      <th>movie_rating</th>\n",
       "      <th>movie_duration_in_second</th>\n",
       "    </tr>\n",
       "  </thead>\n",
       "  <tbody>\n",
       "    <tr>\n",
       "      <th>2</th>\n",
       "      <td>3</td>\n",
       "      <td>Orphans of the Storm</td>\n",
       "      <td>1921</td>\n",
       "      <td>3.2</td>\n",
       "      <td>9062.0</td>\n",
       "    </tr>\n",
       "    <tr>\n",
       "      <th>12</th>\n",
       "      <td>13</td>\n",
       "      <td>The Birth of a Nation</td>\n",
       "      <td>1915</td>\n",
       "      <td>2.9</td>\n",
       "      <td>12118.0</td>\n",
       "    </tr>\n",
       "    <tr>\n",
       "      <th>13</th>\n",
       "      <td>14</td>\n",
       "      <td>The Boys from Brazil</td>\n",
       "      <td>1978</td>\n",
       "      <td>3.6</td>\n",
       "      <td>7417.0</td>\n",
       "    </tr>\n",
       "    <tr>\n",
       "      <th>20</th>\n",
       "      <td>21</td>\n",
       "      <td>Born on the Fourth of July</td>\n",
       "      <td>1989</td>\n",
       "      <td>3.4</td>\n",
       "      <td>8646.0</td>\n",
       "    </tr>\n",
       "    <tr>\n",
       "      <th>21</th>\n",
       "      <td>22</td>\n",
       "      <td>Broadcast News</td>\n",
       "      <td>1987</td>\n",
       "      <td>3.4</td>\n",
       "      <td>7940.0</td>\n",
       "    </tr>\n",
       "  </tbody>\n",
       "</table>\n",
       "</div>"
      ],
      "text/plain": [
       "    movie_id                  movie_name  movie_release_year  movie_rating  \\\n",
       "2          3        Orphans of the Storm                1921           3.2   \n",
       "12        13       The Birth of a Nation                1915           2.9   \n",
       "13        14        The Boys from Brazil                1978           3.6   \n",
       "20        21  Born on the Fourth of July                1989           3.4   \n",
       "21        22              Broadcast News                1987           3.4   \n",
       "\n",
       "    movie_duration_in_second  \n",
       "2                     9062.0  \n",
       "12                   12118.0  \n",
       "13                    7417.0  \n",
       "20                    8646.0  \n",
       "21                    7940.0  "
      ]
     },
     "execution_count": 50,
     "metadata": {},
     "output_type": "execute_result"
    }
   ],
   "source": [
    "movie_more_than_2_hour = data[(data.movie_duration_in_second > 7200)]\n",
    "print('total =',len(movie_more_than_2_hour))\n",
    "movie_more_than_2_hour.head()"
   ]
  },
  {
   "cell_type": "markdown",
   "metadata": {},
   "source": [
    "## Find the list of years and number of movies released each year."
   ]
  },
  {
   "cell_type": "code",
   "execution_count": 52,
   "metadata": {},
   "outputs": [
    {
     "data": {
      "text/plain": [
       "2011    5511\n",
       "2010    5107\n",
       "2009    4451\n",
       "2012    4339\n",
       "2008    3358\n",
       "2007    2892\n",
       "2006    2416\n",
       "2005    1937\n",
       "2003    1399\n",
       "2004    1381\n",
       "1999    1181\n",
       "2001    1173\n",
       "2002    1117\n",
       "2013     981\n",
       "2000     902\n",
       "1998     843\n",
       "1997     788\n",
       "1996     688\n",
       "1995     592\n",
       "1993     564\n",
       "1994     517\n",
       "1992     479\n",
       "1990     470\n",
       "1989     421\n",
       "1991     364\n",
       "1988     334\n",
       "1985     334\n",
       "1984     303\n",
       "1986     287\n",
       "1987     280\n",
       "        ... \n",
       "1949       9\n",
       "1934       8\n",
       "1943       7\n",
       "1936       7\n",
       "1933       7\n",
       "1941       7\n",
       "1939       6\n",
       "1946       6\n",
       "1920       6\n",
       "1938       5\n",
       "1925       5\n",
       "1930       5\n",
       "1924       5\n",
       "1929       5\n",
       "1927       4\n",
       "1937       4\n",
       "1923       4\n",
       "1932       4\n",
       "1931       3\n",
       "1913       3\n",
       "1919       3\n",
       "1942       3\n",
       "1926       2\n",
       "1922       2\n",
       "1928       2\n",
       "1921       2\n",
       "1918       1\n",
       "1916       1\n",
       "1915       1\n",
       "2014       1\n",
       "Name: movie_release_year, Length: 101, dtype: int64"
      ]
     },
     "execution_count": 52,
     "metadata": {},
     "output_type": "execute_result"
    }
   ],
   "source": [
    "list_of_years_and_movies_each_year = data.iloc[:, 2]\n",
    "list_of_years_and_movies_each_year.value_counts()"
   ]
  },
  {
   "cell_type": "markdown",
   "metadata": {},
   "source": [
    "## Find the total number of movies in the dataset"
   ]
  },
  {
   "cell_type": "code",
   "execution_count": 55,
   "metadata": {},
   "outputs": [
    {
     "name": "stdout",
     "output_type": "stream",
     "text": [
      "total_movie = 49590\n"
     ]
    }
   ],
   "source": [
    "print('total_movie =', len(data))"
   ]
  },
  {
   "cell_type": "code",
   "execution_count": null,
   "metadata": {},
   "outputs": [],
   "source": []
  }
 ],
 "metadata": {
  "kernelspec": {
   "display_name": "Python 3",
   "language": "python",
   "name": "python3"
  },
  "language_info": {
   "codemirror_mode": {
    "name": "ipython",
    "version": 3
   },
   "file_extension": ".py",
   "mimetype": "text/x-python",
   "name": "python",
   "nbconvert_exporter": "python",
   "pygments_lexer": "ipython3",
   "version": "3.6.4"
  }
 },
 "nbformat": 4,
 "nbformat_minor": 2
}
